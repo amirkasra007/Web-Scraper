{
  "nbformat": 4,
  "nbformat_minor": 0,
  "metadata": {
    "colab": {
      "name": "Untitled24.ipynb",
      "provenance": []
    },
    "kernelspec": {
      "name": "python3",
      "display_name": "Python 3"
    },
    "language_info": {
      "name": "python"
    }
  },
  "cells": [
    {
      "cell_type": "code",
      "metadata": {
        "id": "aoqI2IkNllXh"
      },
      "source": [
        "import requests\n",
        "import pandas as pd"
      ],
      "execution_count": null,
      "outputs": []
    },
    {
      "cell_type": "markdown",
      "metadata": {
        "id": "dwRr67ZcqLgv"
      },
      "source": [
        "First, we clivk on the inspect part tab and click network. Then, after right click in this part we copy the curl  and convert it to python code via this [link](https://curlconverter.com/)\t"
      ]
    },
    {
      "cell_type": "code",
      "metadata": {
        "id": "MTlh7xgxlpKM"
      },
      "source": [
        "headers = {\n",
        "    'authority': 'api2.realtor.ca',\n",
        "    'sec-ch-ua': '\"Google Chrome\";v=\"93\", \" Not;A Brand\";v=\"99\", \"Chromium\";v=\"93\"',\n",
        "    'accept': '*/*',\n",
        "    'content-type': 'application/x-www-form-urlencoded; charset=UTF-8',\n",
        "    'sec-ch-ua-mobile': '?0',\n",
        "    'user-agent': 'Mozilla/5.0 (X11; Linux x86_64) AppleWebKit/537.36 (KHTML, like Gecko) Chrome/93.0.4577.63 Safari/537.36',\n",
        "    'sec-ch-ua-platform': '\"Linux\"',\n",
        "    'origin': 'https://www.realtor.ca',\n",
        "    'sec-fetch-site': 'same-site',\n",
        "    'sec-fetch-mode': 'cors',\n",
        "    'sec-fetch-dest': 'empty',\n",
        "    'referer': 'https://www.realtor.ca/',\n",
        "    'accept-language': 'en-US,en;q=0.9,fa-IR;q=0.8,fa;q=0.7',\n",
        "    'cookie': 'visid_incap_2269415=SWo1nrNDSl2FyonD176mLhB2gWEAAAAAQUIPAAAAAAB/+E2ij8DP5BcNNcbEMpSb; _fbp=fb.1.1635874324736.1705333370; gig_bootstrap_3_mrQiIl6ov44s2X3j6NGWVZ9SDDtplqV7WgdcyEpGYnYxl7ygDWPQHqQqtpSiUfko=gigya-pr_ver4; visid_incap_2271082=QHd7Q0Q6TQWFBRnvxeFFprJ2gWEAAAAAQUIPAAAAAAD1ovcQm0J0AQoCcy7ZBJXr; nlbi_2269415=2DtFPbyYUytJ4gsckG5lugAAAADNGR0/eHFbPEQwOHje2LdF; incap_ses_1290_2269415=LeDJRE5Unym0J1EsfgDnEXnem2EAAAAAsM1uWdodZ08TWnyCaipSUg==; _gid=GA1.2.712048515.1637604989; ASP.NET_SessionId=2fkuucr4esyo41ej5eohrvju; nlbi_2271082=5ebWZOtUV1FXCmLYcbDG1QAAAACX9pgsdUXN2Bq1Lo0hXDOI; incap_ses_8219_2269415=q9pXNaqq0EfYuuwUOsEPcvianGEAAAAA3xiwOuiYOXWjFnXbL/Gs3g==; incap_ses_8219_2271082=E0G7ZFY9MhWWyuwUOsEPcgWbnGEAAAAASe4hEKrdj0Zeen4wsM4wjw==; nlbi_2269415_2147483646=HjVFYCgpHUylmKRpkG5lugAAAADyr8Rx/egQEUNnUqIDg/tm; _ga=GA1.1.2117568794.1635874324; reese84=3:Cs4pky3QiCxcHDW4gHMbFw==:4IVZUgSqzxreiQgK1BFWEBlTU6O+CKg2wjovFGTFWbYoP9ywjWG7A+p3xl50RL91PzofTrnnwD0soviBcyTJiNb3hQszqSOQtccLHYUt7ygCyKqWdFvyQHfcsUkOA9zxYK6ZeEgz9KalYy3oJ+x13+ToDedwsoikGMTBlR629BMFhGxpip4Yg8gtCydPLHnUzRr5xIRBZ56ti69fBOP1Pvw+pDsq0D1QRv+Sc7o2JV2m74H+X/mlbcBZLv0JPXtlFseEruOhcZRUdn1bxWEGMs5o0rY9WymyT8umlqmZdqLL3cjuxayENmhkrxAkny6r65aZmDChF60OdLUA1y5/+O+BSCXpchoVKC/NsopZ654x67hVAPiHZ1SLh/9gzGaDpq3PH1tIuIN1ERXmHs4ethe2ca7fZBLmCZbomFlTrcA=:MVGYDrEqQEcwSzhpsu0lO5OxOxPqAo4blrg4XI4/8As=; _4c_=fZNNb6MwEIb%2FSsWqnAo12GATiUOVSFGkbHe17V72Ejl4klglGBknNK3y33ec0rBSpeWC5%2FE7HxrPvAf9DppgkuSU5xmlORdpehe8wKkLJu%2BB1cr%2FjsEkkLxaQ0XX0YZTGrFswyMhlIiIqIAQlTEl1sFd8OpjMZpnhKasKNLzXVC1Q4z34GBrDLVzru0m9%2Fd938cWZO2MjSt5v5fttz%2FG7JdwhLpMSDiFxoEtGY05EUTw23Qa8SLGSqnIwqV02h0UfJevXlJQwRCaZnulERcxT3iajFrdeC3juWD%2FaJFGgsSEZlkeHjX0Za07Fz4Z68o8moU%2F52AWqiu3lKxU%2ByYKu%2Bchske5h%2FLZWNM4g8XdpuTHY%2FjTmhasOz2fWphbc2gXszK50ieQttr5u4VC%2FGxl08nKadMMLA2nB2uhqU7l9GGGHa2MAmxaUsRFTNB2b2jl%2FgSNf5jWKjzPH1a%2FFzM00yThWS54wWJ81Exwhg%2BBgtYadajcymEalPWwvunUC14oOOoKVr1Wbufz0Dwf6Q70ducQY8c8ba2X4KnXjTL96JUWbKRXL5wqpEvZbA9yC4Pr0my3oG4WOHbBRtYdIMP2HHVTeQlaU3NonD2hMQe7l80J2S%2FotMKB0LI2dmr2e7C6kn6c7HiDurU1fQe%2BzOnOmj3cFBSpwXEOlro5vKJhYQPYYvuRrNMOLlE%2BB3FguAMjji649f32fagNpvZeuDuohssDjurgPCwC5ZwWuFhCUHw4h9WKnBH%2FnT%2BiXfZCfFGnX9UKuhdn2iHDf3zZV9%2Bj%2FtxiEEUiSKIiztcyYhR4JJNCRYxQRao1obzIgmvIPMsSDMnyISS6ftZeDxGTUZyjPhVp8ilmQ%2F7z%2BS8%3D; _ga_Y07J3B53QP=GS1.1.1637653250.6.1.1637653415.9; _gali=ListViewPagination_Bottom',\n",
        "}\n",
        "\n",
        "data = {\n",
        "  'ZoomLevel': '10',\n",
        "  'LatitudeMax': '43.93845',\n",
        "  'LongitudeMax': '-78.71721',\n",
        "  'LatitudeMin': '43.47684',\n",
        "  'LongitudeMin': '-80.03556',\n",
        "  'Sort': '6-D',\n",
        "  'PropertyTypeGroupID': '1',\n",
        "  'PropertySearchTypeId': '1',\n",
        "  'TransactionTypeId': '2',\n",
        "  'Currency': 'CAD',\n",
        "  'RecordsPerPage': '12',\n",
        "  'ApplicationId': '1',\n",
        "  'CultureId': '1',\n",
        "  'Version': '7.0',\n",
        "  'CurrentPage': '1'\n",
        "}\n",
        "\n",
        "response = requests.post('https://api2.realtor.ca/Listing.svc/PropertySearch_Post', headers=headers, data=data)"
      ],
      "execution_count": null,
      "outputs": []
    },
    {
      "cell_type": "code",
      "metadata": {
        "id": "fITHKzOElsIf"
      },
      "source": [
        "result_json = response.json()"
      ],
      "execution_count": null,
      "outputs": []
    },
    {
      "cell_type": "code",
      "metadata": {
        "colab": {
          "base_uri": "https://localhost:8080/"
        },
        "id": "ZwALmtcalz6r",
        "outputId": "26636285-5c19-4cf4-fc25-70bb3a724293"
      },
      "source": [
        "result_json.keys()"
      ],
      "execution_count": null,
      "outputs": [
        {
          "output_type": "execute_result",
          "data": {
            "text/plain": [
              "dict_keys(['ErrorCode', 'Paging', 'Results', 'Pins', 'GroupingLevel'])"
            ]
          },
          "metadata": {},
          "execution_count": 11
        }
      ]
    },
    {
      "cell_type": "code",
      "metadata": {
        "id": "8h3TC-WrEGV5"
      },
      "source": [
        "result_items = result_json[\"Results\"]"
      ],
      "execution_count": null,
      "outputs": []
    },
    {
      "cell_type": "code",
      "metadata": {
        "colab": {
          "base_uri": "https://localhost:8080/"
        },
        "id": "tZhl56wHmRJ5",
        "outputId": "0d0dcbbb-ef1d-4543-bf82-2de33c893e69"
      },
      "source": [
        "result_items[0]"
      ],
      "execution_count": null,
      "outputs": [
        {
          "output_type": "execute_result",
          "data": {
            "text/plain": [
              "{'Building': {'Ammenities': 'Storage - Locker',\n",
              "  'BathroomTotal': '2',\n",
              "  'Bedrooms': '2',\n",
              "  'StoriesTotal': '',\n",
              "  'Type': 'Apartment'},\n",
              " 'Business': {},\n",
              " 'Distance': '',\n",
              " 'HasNewImageUpdate': True,\n",
              " 'Id': '23846019',\n",
              " 'Individual': [{'CorporationDisplayTypeId': '0',\n",
              "   'Emails': [{'ContactId': '476783279'}],\n",
              "   'FirstName': 'ALFREDO',\n",
              "   'IndividualID': 1896212,\n",
              "   'LastName': 'ANDRIANO',\n",
              "   'Name': 'ALFREDO ANDRIANO',\n",
              "   'Organization': {'Address': {'AddressText': '4040 STEELES AVE WEST #12|WOODBRIDGE, Ontario L4L4Y5',\n",
              "     'DisseminationArea': None,\n",
              "     'PermitShowAddress': True},\n",
              "    'Designation': 'Brokerage',\n",
              "    'Emails': [{'ContactId': '452412874'}],\n",
              "    'HasEmail': True,\n",
              "    'Name': 'ROYAL F.R.A. REALTY, LTD.',\n",
              "    'OrganizationID': 287023,\n",
              "    'OrganizationType': 'Firm',\n",
              "    'PermitFreetextEmail': True,\n",
              "    'PermitShowListingLink': True,\n",
              "    'Phones': [{'AreaCode': '905',\n",
              "      'PhoneNumber': '850-3555',\n",
              "      'PhoneType': 'Telephone',\n",
              "      'PhoneTypeId': '1'},\n",
              "     {'AreaCode': '905',\n",
              "      'PhoneNumber': '850-2858',\n",
              "      'PhoneType': 'Fax',\n",
              "      'PhoneTypeId': '4'}],\n",
              "    'PhotoLastupdate': '2021-11-22 5:56:56 PM',\n",
              "    'RelativeDetailsURL': '/office/firm/287023/royal-fra-realty-ltd-4040-steeles-ave-west-12-woodbridge-ontario-l4l4y5'},\n",
              "   'PermitFreetextEmail': True,\n",
              "   'PermitShowListingLink': True,\n",
              "   'Phones': [{'AreaCode': '416',\n",
              "     'PhoneNumber': '505-4530',\n",
              "     'PhoneType': 'Telephone',\n",
              "     'PhoneTypeId': '1'}],\n",
              "   'Photo': 'https://cdn.realtor.ca/individual/TS0/lowres/1896212.jpg',\n",
              "   'PhotoHighRes': 'https://cdn.realtor.ca/individual/TS0/highres/1896212.jpg',\n",
              "   'Position': 'Broker',\n",
              "   'RankMyAgentKey': '',\n",
              "   'RealSatisfiedKey': '',\n",
              "   'RelativeDetailsURL': '/agent/1896212/alfredo-andriano-4040-steeles-ave-west-12-woodbridge-ontario-l4l4y5'}],\n",
              " 'InsertedDateUTC': '637732186169830000',\n",
              " 'Land': {},\n",
              " 'Media': [],\n",
              " 'MlsNumber': 'N5438731',\n",
              " 'PhotoChangeDateUTC': '2021-11-22 10:56:56 PM',\n",
              " 'PostalCode': 'L4L2H7',\n",
              " 'Property': {'Address': {'AddressText': '#211 -245 PINE GROVE RD|Vaughan, Ontario L4L2H7',\n",
              "   'DisseminationArea': None,\n",
              "   'Latitude': '43.7973037',\n",
              "   'Longitude': '-79.5840557',\n",
              "   'PermitShowAddress': True},\n",
              "  'AmmenitiesNearBy': 'Park, Schools',\n",
              "  'ConvertedPrice': '$649,900 ',\n",
              "  'OwnershipType': 'Condominium/Strata',\n",
              "  'OwnershipTypeGroupIds': [2],\n",
              "  'Parking': [{'Name': 'Underground'}],\n",
              "  'ParkingSpaceTotal': '2',\n",
              "  'ParkingType': 'Underground',\n",
              "  'Photo': [{'HighResPath': 'https://cdn.realtor.ca/listings/TS637732006169900000/reb82/highres/1/n5438731_1.jpg',\n",
              "    'LastUpdated': '2021-11-22 5:56:56 PM',\n",
              "    'LowResPath': 'https://cdn.realtor.ca/listings/TS637732006169900000/reb82/lowres/1/n5438731_1.jpg',\n",
              "    'MedResPath': 'https://cdn.realtor.ca/listings/TS637732006169900000/reb82/medres/1/n5438731_1.jpg',\n",
              "    'SequenceId': '1'}],\n",
              "  'Price': '$649,900',\n",
              "  'PriceUnformattedValue': '649900',\n",
              "  'Type': 'Single Family',\n",
              "  'TypeId': '300'},\n",
              " 'PublicRemarks': 'Beautiful 2 Bedroom + 2 Bath In The Heart Of Woodbridge. Luxurious Low Rise Condo Boasts A Massive 200 Sqft Terrace. Freshly Painted And Renovated. This Unit Comes With 2 Parking Spaces And Locker. Easy To Show.**** EXTRAS **** Fridge, Stove, Dishwasher, Washer/Dryer, All Existing E.L.F., All Existing Window Coverings, One Garage Door Opener, The Hvac Unit Is Rental. (29284750)',\n",
              " 'RelativeDetailsURL': '/real-estate/23846019/211-245-pine-grove-rd-vaughan-islington-woods',\n",
              " 'RelativeURLEn': '/real-estate/23846019/211-245-pine-grove-rd-vaughan-islington-woods',\n",
              " 'RelativeURLFr': '/immobilier/23846019/211-245-pine-grove-rd-vaughan',\n",
              " 'StatusId': '1',\n",
              " 'TimeOnRealtor': '8 hours ago'}"
            ]
          },
          "metadata": {},
          "execution_count": 13
        }
      ]
    },
    {
      "cell_type": "markdown",
      "metadata": {
        "id": "LiwGXD1F1rtX"
      },
      "source": [
        "## Extracting data from one ad in the first page."
      ]
    },
    {
      "cell_type": "code",
      "metadata": {
        "colab": {
          "base_uri": "https://localhost:8080/"
        },
        "id": "506kkNPUD1qn",
        "outputId": "53413dec-eb36-4c48-8468-d5e4907b7f7e"
      },
      "source": [
        "#address\n",
        "address = result_items[0]['Property']['Address']['AddressText']\n",
        "print(address)"
      ],
      "execution_count": null,
      "outputs": [
        {
          "output_type": "stream",
          "name": "stdout",
          "text": [
            "#211 -245 PINE GROVE RD|Vaughan, Ontario L4L2H7\n"
          ]
        }
      ]
    },
    {
      "cell_type": "code",
      "metadata": {
        "colab": {
          "base_uri": "https://localhost:8080/"
        },
        "id": "irAUCkaWElTE",
        "outputId": "1fc3e748-8a1e-426e-a591-152c20025461"
      },
      "source": [
        "#bedrooms\n",
        "bedrooms = result_items[0]['Building']['Bedrooms']\n",
        "print(bedrooms)"
      ],
      "execution_count": null,
      "outputs": [
        {
          "output_type": "stream",
          "name": "stdout",
          "text": [
            "2\n"
          ]
        }
      ]
    },
    {
      "cell_type": "code",
      "metadata": {
        "colab": {
          "base_uri": "https://localhost:8080/"
        },
        "id": "DfBNRdZuHJv1",
        "outputId": "db376b45-a4b6-439a-95ad-20fc9d7b82ca"
      },
      "source": [
        "#bahrooms\n",
        "bathrooms = result_items[0]['Building']['BathroomTotal']\n",
        "print(bathrooms)"
      ],
      "execution_count": null,
      "outputs": [
        {
          "output_type": "stream",
          "name": "stdout",
          "text": [
            "2\n"
          ]
        }
      ]
    },
    {
      "cell_type": "code",
      "metadata": {
        "id": "8W3BwZ0vHUkm"
      },
      "source": [
        ""
      ],
      "execution_count": null,
      "outputs": []
    },
    {
      "cell_type": "code",
      "metadata": {
        "colab": {
          "base_uri": "https://localhost:8080/"
        },
        "id": "1u1icVBDxZJp",
        "outputId": "304592a0-3414-43e8-b73f-b4758421d4c5"
      },
      "source": [
        "#agent name\n",
        "agent_name = result_items[0]['Individual'][0]['Name']\n",
        "print(agent_name)"
      ],
      "execution_count": null,
      "outputs": [
        {
          "output_type": "stream",
          "name": "stdout",
          "text": [
            "ALFREDO ANDRIANO\n"
          ]
        }
      ]
    },
    {
      "cell_type": "code",
      "metadata": {
        "colab": {
          "base_uri": "https://localhost:8080/"
        },
        "id": "cGzfWxczH3sj",
        "outputId": "a4fd674b-994d-4267-b166-2a32ba116bf2"
      },
      "source": [
        "result_items[0]['Individual']"
      ],
      "execution_count": null,
      "outputs": [
        {
          "output_type": "execute_result",
          "data": {
            "text/plain": [
              "[{'CorporationDisplayTypeId': '0',\n",
              "  'Emails': [{'ContactId': '476783279'}],\n",
              "  'FirstName': 'ALFREDO',\n",
              "  'IndividualID': 1896212,\n",
              "  'LastName': 'ANDRIANO',\n",
              "  'Name': 'ALFREDO ANDRIANO',\n",
              "  'Organization': {'Address': {'AddressText': '4040 STEELES AVE WEST #12|WOODBRIDGE, Ontario L4L4Y5',\n",
              "    'DisseminationArea': None,\n",
              "    'PermitShowAddress': True},\n",
              "   'Designation': 'Brokerage',\n",
              "   'Emails': [{'ContactId': '452412874'}],\n",
              "   'HasEmail': True,\n",
              "   'Name': 'ROYAL F.R.A. REALTY, LTD.',\n",
              "   'OrganizationID': 287023,\n",
              "   'OrganizationType': 'Firm',\n",
              "   'PermitFreetextEmail': True,\n",
              "   'PermitShowListingLink': True,\n",
              "   'Phones': [{'AreaCode': '905',\n",
              "     'PhoneNumber': '850-3555',\n",
              "     'PhoneType': 'Telephone',\n",
              "     'PhoneTypeId': '1'},\n",
              "    {'AreaCode': '905',\n",
              "     'PhoneNumber': '850-2858',\n",
              "     'PhoneType': 'Fax',\n",
              "     'PhoneTypeId': '4'}],\n",
              "   'PhotoLastupdate': '2021-11-22 5:56:56 PM',\n",
              "   'RelativeDetailsURL': '/office/firm/287023/royal-fra-realty-ltd-4040-steeles-ave-west-12-woodbridge-ontario-l4l4y5'},\n",
              "  'PermitFreetextEmail': True,\n",
              "  'PermitShowListingLink': True,\n",
              "  'Phones': [{'AreaCode': '416',\n",
              "    'PhoneNumber': '505-4530',\n",
              "    'PhoneType': 'Telephone',\n",
              "    'PhoneTypeId': '1'}],\n",
              "  'Photo': 'https://cdn.realtor.ca/individual/TS0/lowres/1896212.jpg',\n",
              "  'PhotoHighRes': 'https://cdn.realtor.ca/individual/TS0/highres/1896212.jpg',\n",
              "  'Position': 'Broker',\n",
              "  'RankMyAgentKey': '',\n",
              "  'RealSatisfiedKey': '',\n",
              "  'RelativeDetailsURL': '/agent/1896212/alfredo-andriano-4040-steeles-ave-west-12-woodbridge-ontario-l4l4y5'}]"
            ]
          },
          "metadata": {},
          "execution_count": 20
        }
      ]
    },
    {
      "cell_type": "code",
      "metadata": {
        "colab": {
          "base_uri": "https://localhost:8080/"
        },
        "id": "ZQFKPNcFyELg",
        "outputId": "2b64aa58-7bd6-491c-f05f-1fe972c3c4e3"
      },
      "source": [
        "#phone numbe\n",
        "phone_number = result_items[0]['Individual'][0]['Phones'][0]['AreaCode']\n",
        "print(phone_number)"
      ],
      "execution_count": null,
      "outputs": [
        {
          "output_type": "stream",
          "name": "stdout",
          "text": [
            "416\n"
          ]
        }
      ]
    },
    {
      "cell_type": "code",
      "metadata": {
        "colab": {
          "base_uri": "https://localhost:8080/"
        },
        "id": "PbWClw8uzNf-",
        "outputId": "2d68a5f7-daae-4528-f6bf-e89ec208cb79"
      },
      "source": [
        "result_items[0]['Individual'][0]['Phones'][0]"
      ],
      "execution_count": null,
      "outputs": [
        {
          "output_type": "execute_result",
          "data": {
            "text/plain": [
              "{'AreaCode': '416',\n",
              " 'PhoneNumber': '505-4530',\n",
              " 'PhoneType': 'Telephone',\n",
              " 'PhoneTypeId': '1'}"
            ]
          },
          "metadata": {},
          "execution_count": 23
        }
      ]
    },
    {
      "cell_type": "code",
      "metadata": {
        "colab": {
          "base_uri": "https://localhost:8080/",
          "height": 35
        },
        "id": "eM2jBzGnzafT",
        "outputId": "deae5983-27f8-4293-e429-1559e4372144"
      },
      "source": [
        "result_items[0]['Property']['Price']"
      ],
      "execution_count": null,
      "outputs": [
        {
          "output_type": "execute_result",
          "data": {
            "application/vnd.google.colaboratory.intrinsic+json": {
              "type": "string"
            },
            "text/plain": [
              "'$649,900'"
            ]
          },
          "metadata": {},
          "execution_count": 24
        }
      ]
    },
    {
      "cell_type": "markdown",
      "metadata": {
        "id": "c1QNG35b1I0l"
      },
      "source": [
        "## Extracting the desired data for the entire elements in the page."
      ]
    },
    {
      "cell_type": "code",
      "metadata": {
        "id": "yYyh-Cxhz4EC"
      },
      "source": [
        "address = []\n",
        "bedrooms = []\n",
        "bathrooms = []\n",
        "agent_name = []\n",
        "area_code = []\n",
        "phone_number = []\n",
        "price = []\n",
        "\n",
        "for result in result_items:\n",
        "    \n",
        "    # address\n",
        "    try:\n",
        "        address.append(result['Property']['Address']['AddressText'])\n",
        "    except:\n",
        "        address.append('')\n",
        "    \n",
        "    \n",
        "    # bedrooms\n",
        "    try:\n",
        "        bedrooms.append(result['Building']['Bedrooms'])\n",
        "    except:\n",
        "        bedrooms.append('')\n",
        "        \n",
        "    \n",
        "    # bathrooms\n",
        "    try:\n",
        "        bathrooms.append(result['Building']['BathroomTotal'])\n",
        "    except:\n",
        "        bathrooms.append('')\n",
        "    \n",
        "    # agent name\n",
        "    try:\n",
        "        agent_name.append(result['Individual'][0]['Name'])\n",
        "    except:\n",
        "        agent_name.append('')\n",
        "    \n",
        "    # area code\n",
        "    try:\n",
        "        area_code.append(result['Individual'][0]['Phones'][0]['AreaCode'])\n",
        "    except:\n",
        "        area_code.append('')\n",
        "    \n",
        "    # phone number\n",
        "    try:\n",
        "        phone_number.append(result['Individual'][0]['Phones'][0]['PhoneNumber'])\n",
        "    except:\n",
        "        phone_number.append('')\n",
        "    \n",
        "    # price\n",
        "    try:\n",
        "        price.append(result['Property']['Price'])\n",
        "    except:\n",
        "        price.append('')"
      ],
      "execution_count": null,
      "outputs": []
    },
    {
      "cell_type": "code",
      "metadata": {
        "id": "4ZNZPt-i2PsF"
      },
      "source": [
        "df_realtor = pd.DataFrame({'Address': address, 'Bedrooms': bedrooms, 'Bathrooms':bathrooms,\n",
        "                          'Agent Name': agent_name, 'Area Code': area_code, 'Telephone': phone_number, 'Price': price})"
      ],
      "execution_count": null,
      "outputs": []
    },
    {
      "cell_type": "code",
      "metadata": {
        "colab": {
          "base_uri": "https://localhost:8080/",
          "height": 608
        },
        "id": "0q2JG6Ai2R5t",
        "outputId": "a71a0f7b-feab-4cbc-dd00-487b80dc352a"
      },
      "source": [
        "df_realtor"
      ],
      "execution_count": null,
      "outputs": [
        {
          "output_type": "execute_result",
          "data": {
            "text/html": [
              "<div>\n",
              "<style scoped>\n",
              "    .dataframe tbody tr th:only-of-type {\n",
              "        vertical-align: middle;\n",
              "    }\n",
              "\n",
              "    .dataframe tbody tr th {\n",
              "        vertical-align: top;\n",
              "    }\n",
              "\n",
              "    .dataframe thead th {\n",
              "        text-align: right;\n",
              "    }\n",
              "</style>\n",
              "<table border=\"1\" class=\"dataframe\">\n",
              "  <thead>\n",
              "    <tr style=\"text-align: right;\">\n",
              "      <th></th>\n",
              "      <th>Address</th>\n",
              "      <th>Bedrooms</th>\n",
              "      <th>Bathrooms</th>\n",
              "      <th>Agent Name</th>\n",
              "      <th>Area Code</th>\n",
              "      <th>Telephone</th>\n",
              "      <th>Price</th>\n",
              "    </tr>\n",
              "  </thead>\n",
              "  <tbody>\n",
              "    <tr>\n",
              "      <th>0</th>\n",
              "      <td>#211 -245 PINE GROVE RD|Vaughan, Ontario L4L2H7</td>\n",
              "      <td>2</td>\n",
              "      <td>2</td>\n",
              "      <td>ALFREDO ANDRIANO</td>\n",
              "      <td>416</td>\n",
              "      <td>505-4530</td>\n",
              "      <td>$649,900</td>\n",
              "    </tr>\n",
              "    <tr>\n",
              "      <th>1</th>\n",
              "      <td>#805 -50 CLEGG RD|Markham, Ontario L6G0C6</td>\n",
              "      <td>1 + 1</td>\n",
              "      <td>1</td>\n",
              "      <td>KAROLINA ARMSTRONG</td>\n",
              "      <td>416</td>\n",
              "      <td>383-9525</td>\n",
              "      <td>$650,000</td>\n",
              "    </tr>\n",
              "    <tr>\n",
              "      <th>2</th>\n",
              "      <td>#206 -29 NORTHERN HEIGHTS DR|Richmond Hill, On...</td>\n",
              "      <td>2</td>\n",
              "      <td>2</td>\n",
              "      <td>JASON YU</td>\n",
              "      <td>905</td>\n",
              "      <td>470-9800</td>\n",
              "      <td>$599,000</td>\n",
              "    </tr>\n",
              "    <tr>\n",
              "      <th>3</th>\n",
              "      <td>191 ROYAL ORCHARD BLVD|Markham, Ontario L3T3E1</td>\n",
              "      <td>3 + 1</td>\n",
              "      <td>2</td>\n",
              "      <td>SARA BABAIMEHR</td>\n",
              "      <td>416</td>\n",
              "      <td>364-4776</td>\n",
              "      <td>$1,777,000</td>\n",
              "    </tr>\n",
              "    <tr>\n",
              "      <th>4</th>\n",
              "      <td>22 KRUGER RD|Markham, Ontario L3S3X1</td>\n",
              "      <td>3</td>\n",
              "      <td>3</td>\n",
              "      <td>CAMMERSON PATHMARATNAM</td>\n",
              "      <td>416</td>\n",
              "      <td>491-4002</td>\n",
              "      <td>$1,199,000</td>\n",
              "    </tr>\n",
              "    <tr>\n",
              "      <th>5</th>\n",
              "      <td>#1206 -80 INVERLOCHY BLVD|Markham, Ontario L3T4P3</td>\n",
              "      <td>2</td>\n",
              "      <td>2</td>\n",
              "      <td>SIMON PENG</td>\n",
              "      <td>647</td>\n",
              "      <td>287-7738</td>\n",
              "      <td>$599,999</td>\n",
              "    </tr>\n",
              "    <tr>\n",
              "      <th>6</th>\n",
              "      <td>10830 CLARKWAY DR|Brampton, Ontario L6P0V7</td>\n",
              "      <td></td>\n",
              "      <td>0</td>\n",
              "      <td>VINCE MILA</td>\n",
              "      <td>905</td>\n",
              "      <td>851-7171</td>\n",
              "      <td>$12,900,000</td>\n",
              "    </tr>\n",
              "    <tr>\n",
              "      <th>7</th>\n",
              "      <td>657 COGNAC CRES|Pickering, Ontario L1X1L7</td>\n",
              "      <td>4 + 2</td>\n",
              "      <td>4</td>\n",
              "      <td>RON NICESKI</td>\n",
              "      <td>416</td>\n",
              "      <td>726-1595</td>\n",
              "      <td>$970,000</td>\n",
              "    </tr>\n",
              "    <tr>\n",
              "      <th>8</th>\n",
              "      <td>#DR -1732 SILVER MAPLE DR|Pickering, Ontario L...</td>\n",
              "      <td>3</td>\n",
              "      <td>3</td>\n",
              "      <td>JOHNDER PEREZ</td>\n",
              "      <td>416</td>\n",
              "      <td>494-7653</td>\n",
              "      <td>$899,900</td>\n",
              "    </tr>\n",
              "    <tr>\n",
              "      <th>9</th>\n",
              "      <td>78 MILL ST|Ajax, Ontario L1S6K6</td>\n",
              "      <td>3 + 2</td>\n",
              "      <td>2</td>\n",
              "      <td>KRISHNA YOGARAJAH</td>\n",
              "      <td>416</td>\n",
              "      <td>363-3473</td>\n",
              "      <td>$899,999</td>\n",
              "    </tr>\n",
              "    <tr>\n",
              "      <th>10</th>\n",
              "      <td>15 GOLDHAWK TR|Toronto, Ontario M1V4Z1</td>\n",
              "      <td>3 + 2</td>\n",
              "      <td>4</td>\n",
              "      <td>DIANE ALEXANDER</td>\n",
              "      <td>866</td>\n",
              "      <td>530-7737</td>\n",
              "      <td>$999,998</td>\n",
              "    </tr>\n",
              "    <tr>\n",
              "      <th>11</th>\n",
              "      <td>#1601 -100 ECHO POINT CIRC|Toronto, Ontario M1...</td>\n",
              "      <td>3</td>\n",
              "      <td>1</td>\n",
              "      <td>STEPHEN K.H. WONG</td>\n",
              "      <td>905</td>\n",
              "      <td>470-7890</td>\n",
              "      <td>$499,000</td>\n",
              "    </tr>\n",
              "  </tbody>\n",
              "</table>\n",
              "</div>"
            ],
            "text/plain": [
              "                                              Address  ...        Price\n",
              "0     #211 -245 PINE GROVE RD|Vaughan, Ontario L4L2H7  ...     $649,900\n",
              "1           #805 -50 CLEGG RD|Markham, Ontario L6G0C6  ...     $650,000\n",
              "2   #206 -29 NORTHERN HEIGHTS DR|Richmond Hill, On...  ...     $599,000\n",
              "3      191 ROYAL ORCHARD BLVD|Markham, Ontario L3T3E1  ...   $1,777,000\n",
              "4                22 KRUGER RD|Markham, Ontario L3S3X1  ...   $1,199,000\n",
              "5   #1206 -80 INVERLOCHY BLVD|Markham, Ontario L3T4P3  ...     $599,999\n",
              "6          10830 CLARKWAY DR|Brampton, Ontario L6P0V7  ...  $12,900,000\n",
              "7           657 COGNAC CRES|Pickering, Ontario L1X1L7  ...     $970,000\n",
              "8   #DR -1732 SILVER MAPLE DR|Pickering, Ontario L...  ...     $899,900\n",
              "9                     78 MILL ST|Ajax, Ontario L1S6K6  ...     $899,999\n",
              "10             15 GOLDHAWK TR|Toronto, Ontario M1V4Z1  ...     $999,998\n",
              "11  #1601 -100 ECHO POINT CIRC|Toronto, Ontario M1...  ...     $499,000\n",
              "\n",
              "[12 rows x 7 columns]"
            ]
          },
          "metadata": {},
          "execution_count": 28
        }
      ]
    },
    {
      "cell_type": "markdown",
      "metadata": {
        "id": "t919LMKy1ehE"
      },
      "source": [
        "## Extracting the desired data for the entire elements in all the pages."
      ]
    },
    {
      "cell_type": "code",
      "metadata": {
        "id": "CxlG5INv4Gpe"
      },
      "source": [
        "address = []\n",
        "bedrooms = []\n",
        "bathrooms = []\n",
        "agent_name = []\n",
        "area_code = []\n",
        "phone_number = []\n",
        "price = []\n",
        "\n",
        "for i in range(1,51):\n",
        "\n",
        "    headers = {\n",
        "        'authority': 'api2.realtor.ca',\n",
        "        'sec-ch-ua': '\"Google Chrome\";v=\"93\", \" Not;A Brand\";v=\"99\", \"Chromium\";v=\"93\"',\n",
        "        'accept': '*/*',\n",
        "        'content-type': 'application/x-www-form-urlencoded; charset=UTF-8',\n",
        "        'sec-ch-ua-mobile': '?0',\n",
        "        'user-agent': 'Mozilla/5.0 (X11; Linux x86_64) AppleWebKit/537.36 (KHTML, like Gecko) Chrome/93.0.4577.63 Safari/537.36',\n",
        "        'sec-ch-ua-platform': '\"Linux\"',\n",
        "        'origin': 'https://www.realtor.ca',\n",
        "        'sec-fetch-site': 'same-site',\n",
        "        'sec-fetch-mode': 'cors',\n",
        "        'sec-fetch-dest': 'empty',\n",
        "        'referer': 'https://www.realtor.ca/',\n",
        "        'accept-language': 'en-US,en;q=0.9,fa-IR;q=0.8,fa;q=0.7',\n",
        "        'cookie': 'visid_incap_2269415=SWo1nrNDSl2FyonD176mLhB2gWEAAAAAQUIPAAAAAAB/+E2ij8DP5BcNNcbEMpSb; _fbp=fb.1.1635874324736.1705333370; gig_bootstrap_3_mrQiIl6ov44s2X3j6NGWVZ9SDDtplqV7WgdcyEpGYnYxl7ygDWPQHqQqtpSiUfko=gigya-pr_ver4; visid_incap_2271082=QHd7Q0Q6TQWFBRnvxeFFprJ2gWEAAAAAQUIPAAAAAAD1ovcQm0J0AQoCcy7ZBJXr; nlbi_2269415=2DtFPbyYUytJ4gsckG5lugAAAADNGR0/eHFbPEQwOHje2LdF; incap_ses_1290_2269415=LeDJRE5Unym0J1EsfgDnEXnem2EAAAAAsM1uWdodZ08TWnyCaipSUg==; _gid=GA1.2.712048515.1637604989; ASP.NET_SessionId=2fkuucr4esyo41ej5eohrvju; nlbi_2271082=5ebWZOtUV1FXCmLYcbDG1QAAAACX9pgsdUXN2Bq1Lo0hXDOI; incap_ses_8219_2269415=q9pXNaqq0EfYuuwUOsEPcvianGEAAAAA3xiwOuiYOXWjFnXbL/Gs3g==; incap_ses_8219_2271082=E0G7ZFY9MhWWyuwUOsEPcgWbnGEAAAAASe4hEKrdj0Zeen4wsM4wjw==; nlbi_2269415_2147483646=HjVFYCgpHUylmKRpkG5lugAAAADyr8Rx/egQEUNnUqIDg/tm; _ga=GA1.1.2117568794.1635874324; reese84=3:Cs4pky3QiCxcHDW4gHMbFw==:4IVZUgSqzxreiQgK1BFWEBlTU6O+CKg2wjovFGTFWbYoP9ywjWG7A+p3xl50RL91PzofTrnnwD0soviBcyTJiNb3hQszqSOQtccLHYUt7ygCyKqWdFvyQHfcsUkOA9zxYK6ZeEgz9KalYy3oJ+x13+ToDedwsoikGMTBlR629BMFhGxpip4Yg8gtCydPLHnUzRr5xIRBZ56ti69fBOP1Pvw+pDsq0D1QRv+Sc7o2JV2m74H+X/mlbcBZLv0JPXtlFseEruOhcZRUdn1bxWEGMs5o0rY9WymyT8umlqmZdqLL3cjuxayENmhkrxAkny6r65aZmDChF60OdLUA1y5/+O+BSCXpchoVKC/NsopZ654x67hVAPiHZ1SLh/9gzGaDpq3PH1tIuIN1ERXmHs4ethe2ca7fZBLmCZbomFlTrcA=:MVGYDrEqQEcwSzhpsu0lO5OxOxPqAo4blrg4XI4/8As=; _4c_=fZNNb6MwEIb%2FSsWqnAo12GATiUOVSFGkbHe17V72Ejl4klglGBknNK3y33ec0rBSpeWC5%2FE7HxrPvAf9DppgkuSU5xmlORdpehe8wKkLJu%2BB1cr%2FjsEkkLxaQ0XX0YZTGrFswyMhlIiIqIAQlTEl1sFd8OpjMZpnhKasKNLzXVC1Q4z34GBrDLVzru0m9%2Fd938cWZO2MjSt5v5fttz%2FG7JdwhLpMSDiFxoEtGY05EUTw23Qa8SLGSqnIwqV02h0UfJevXlJQwRCaZnulERcxT3iajFrdeC3juWD%2FaJFGgsSEZlkeHjX0Za07Fz4Z68o8moU%2F52AWqiu3lKxU%2ByYKu%2Bchske5h%2FLZWNM4g8XdpuTHY%2FjTmhasOz2fWphbc2gXszK50ieQttr5u4VC%2FGxl08nKadMMLA2nB2uhqU7l9GGGHa2MAmxaUsRFTNB2b2jl%2FgSNf5jWKjzPH1a%2FFzM00yThWS54wWJ81Exwhg%2BBgtYadajcymEalPWwvunUC14oOOoKVr1Wbufz0Dwf6Q70ducQY8c8ba2X4KnXjTL96JUWbKRXL5wqpEvZbA9yC4Pr0my3oG4WOHbBRtYdIMP2HHVTeQlaU3NonD2hMQe7l80J2S%2FotMKB0LI2dmr2e7C6kn6c7HiDurU1fQe%2BzOnOmj3cFBSpwXEOlro5vKJhYQPYYvuRrNMOLlE%2BB3FguAMjji649f32fagNpvZeuDuohssDjurgPCwC5ZwWuFhCUHw4h9WKnBH%2FnT%2BiXfZCfFGnX9UKuhdn2iHDf3zZV9%2Bj%2FtxiEEUiSKIiztcyYhR4JJNCRYxQRao1obzIgmvIPMsSDMnyISS6ftZeDxGTUZyjPhVp8ilmQ%2F7z%2BS8%3D; _ga_Y07J3B53QP=GS1.1.1637653250.6.1.1637653415.9; _gali=ListViewPagination_Bottom',\n",
        "    }\n",
        "\n",
        "    data = {\n",
        "      'ZoomLevel': '10',\n",
        "      'LatitudeMax': '43.93845',\n",
        "      'LongitudeMax': '-78.71721',\n",
        "      'LatitudeMin': '43.47684',\n",
        "      'LongitudeMin': '-80.03556',\n",
        "      'Sort': '6-D',\n",
        "      'PropertyTypeGroupID': '1',\n",
        "      'PropertySearchTypeId': '1',\n",
        "      'TransactionTypeId': '2',\n",
        "      'Currency': 'CAD',\n",
        "      'RecordsPerPage': '12',\n",
        "      'ApplicationId': '1',\n",
        "      'CultureId': '1',\n",
        "      'Version': '7.0',\n",
        "      'CurrentPage': str(i)\n",
        "    }\n",
        "\n",
        "    # response \n",
        "    response = requests.post('https://api2.realtor.ca/Listing.svc/PropertySearch_Post', headers=headers, data=data)\n",
        "    \n",
        "    # json object\n",
        "    result_json = response.json()\n",
        "    \n",
        "    # result items\n",
        "    result_items = result_json['Results']\n",
        "    \n",
        "    for result in result_items:\n",
        "    \n",
        "        # address\n",
        "        try:\n",
        "            address.append(result['Property']['Address']['AddressText'])\n",
        "        except:\n",
        "            address.append('')\n",
        "\n",
        "\n",
        "        # bedrooms\n",
        "        try:\n",
        "            bedrooms.append(result['Building']['Bedrooms'])\n",
        "        except:\n",
        "            bedrooms.append('')\n",
        "\n",
        "\n",
        "        # bathrooms\n",
        "        try:\n",
        "            bathrooms.append(result['Building']['BathroomTotal'])\n",
        "        except:\n",
        "            bathrooms.append('')\n",
        "\n",
        "        # agent name\n",
        "        try:\n",
        "            agent_name.append(result['Individual'][0]['Name'])\n",
        "        except:\n",
        "            agent_name.append('')\n",
        "\n",
        "        # area code\n",
        "        try:\n",
        "            area_code.append(result['Individual'][0]['Phones'][0]['AreaCode'])\n",
        "        except:\n",
        "            area_code.append('')\n",
        "\n",
        "        # phone number\n",
        "        try:\n",
        "            phone_number.append(result['Individual'][0]['Phones'][0]['PhoneNumber'])\n",
        "        except:\n",
        "            phone_number.append('')\n",
        "\n",
        "        # price\n",
        "        try:\n",
        "            price.append(result['Property']['Price'])\n",
        "        except:\n",
        "            price.append('')\n",
        "    "
      ],
      "execution_count": null,
      "outputs": []
    },
    {
      "cell_type": "code",
      "metadata": {
        "id": "6_tmBvgd-0vN"
      },
      "source": [
        "df_realtor = pd.DataFrame({'Address': address, 'Bedrooms': bedrooms, 'Bathrooms':bathrooms,\n",
        "                          'Agent Name': agent_name, 'Area Code': area_code, 'Telephone': phone_number, 'Price': price})"
      ],
      "execution_count": null,
      "outputs": []
    },
    {
      "cell_type": "code",
      "metadata": {
        "colab": {
          "base_uri": "https://localhost:8080/",
          "height": 606
        },
        "id": "MLplnAn3_tLv",
        "outputId": "6062b2fc-d62e-4b2f-fe04-1fc1cb0f7451"
      },
      "source": [
        "df_realtor"
      ],
      "execution_count": null,
      "outputs": [
        {
          "output_type": "execute_result",
          "data": {
            "text/html": [
              "<div>\n",
              "<style scoped>\n",
              "    .dataframe tbody tr th:only-of-type {\n",
              "        vertical-align: middle;\n",
              "    }\n",
              "\n",
              "    .dataframe tbody tr th {\n",
              "        vertical-align: top;\n",
              "    }\n",
              "\n",
              "    .dataframe thead th {\n",
              "        text-align: right;\n",
              "    }\n",
              "</style>\n",
              "<table border=\"1\" class=\"dataframe\">\n",
              "  <thead>\n",
              "    <tr style=\"text-align: right;\">\n",
              "      <th></th>\n",
              "      <th>Address</th>\n",
              "      <th>Bedrooms</th>\n",
              "      <th>Bathrooms</th>\n",
              "      <th>Agent Name</th>\n",
              "      <th>Area Code</th>\n",
              "      <th>Telephone</th>\n",
              "      <th>Price</th>\n",
              "    </tr>\n",
              "  </thead>\n",
              "  <tbody>\n",
              "    <tr>\n",
              "      <th>0</th>\n",
              "      <td>#311 -155 HILLCREST AVE W|Mississauga, Ontario...</td>\n",
              "      <td>2 + 1</td>\n",
              "      <td>2</td>\n",
              "      <td>WASIM AHMED MOHAMMED</td>\n",
              "      <td>905</td>\n",
              "      <td>241-2222</td>\n",
              "      <td>$649,900</td>\n",
              "    </tr>\n",
              "    <tr>\n",
              "      <th>1</th>\n",
              "      <td>#81 -6650 FALCONER DR|Mississauga, Ontario L5N1B5</td>\n",
              "      <td>4</td>\n",
              "      <td>2</td>\n",
              "      <td>SURESH BODALIA</td>\n",
              "      <td>905</td>\n",
              "      <td>693-9575</td>\n",
              "      <td>$739,999</td>\n",
              "    </tr>\n",
              "    <tr>\n",
              "      <th>2</th>\n",
              "      <td>#806 -90 ABSOLUTE AVE|Mississauga, Ontario L4Z0A1</td>\n",
              "      <td>2 + 1</td>\n",
              "      <td>2</td>\n",
              "      <td>RAJ SAINI</td>\n",
              "      <td>905</td>\n",
              "      <td>454-4000</td>\n",
              "      <td>$619,990</td>\n",
              "    </tr>\n",
              "    <tr>\n",
              "      <th>3</th>\n",
              "      <td>#202 -300 WEBB DR|Mississauga, Ontario L5B3W3</td>\n",
              "      <td>2</td>\n",
              "      <td>2</td>\n",
              "      <td>STACEY ROBINSON</td>\n",
              "      <td>905</td>\n",
              "      <td>464-7653</td>\n",
              "      <td>$569,900</td>\n",
              "    </tr>\n",
              "    <tr>\n",
              "      <th>4</th>\n",
              "      <td>37 RADLETT AVE|Toronto, Ontario M8W4N1</td>\n",
              "      <td>3 + 1</td>\n",
              "      <td>1</td>\n",
              "      <td>TYSON W. CAFE-RUOFF</td>\n",
              "      <td>647</td>\n",
              "      <td>657-3136</td>\n",
              "      <td>$999,000</td>\n",
              "    </tr>\n",
              "    <tr>\n",
              "      <th>...</th>\n",
              "      <td>...</td>\n",
              "      <td>...</td>\n",
              "      <td>...</td>\n",
              "      <td>...</td>\n",
              "      <td>...</td>\n",
              "      <td>...</td>\n",
              "      <td>...</td>\n",
              "    </tr>\n",
              "    <tr>\n",
              "      <th>595</th>\n",
              "      <td>514 GALAXY CRT|Mississauga, Ontario L5R2R3</td>\n",
              "      <td>3</td>\n",
              "      <td>3</td>\n",
              "      <td>DOLCIE PALUMBO</td>\n",
              "      <td>647</td>\n",
              "      <td>300-8476</td>\n",
              "      <td>$889,900</td>\n",
              "    </tr>\n",
              "    <tr>\n",
              "      <th>596</th>\n",
              "      <td>#4204 -8 EGLINTON AVE E|Toronto, Ontario M4P1A6</td>\n",
              "      <td>1 + 1</td>\n",
              "      <td>1</td>\n",
              "      <td>STEPHANIE LIU</td>\n",
              "      <td>416</td>\n",
              "      <td>500-5888</td>\n",
              "      <td>$549,900</td>\n",
              "    </tr>\n",
              "    <tr>\n",
              "      <th>597</th>\n",
              "      <td>73 HOLMSTEAD AVE|Toronto, Ontario M4B1T3</td>\n",
              "      <td>4 + 0</td>\n",
              "      <td>4</td>\n",
              "      <td>LOUAY KADRI</td>\n",
              "      <td>866</td>\n",
              "      <td>336-9637</td>\n",
              "      <td>$1,699,900</td>\n",
              "    </tr>\n",
              "    <tr>\n",
              "      <th>598</th>\n",
              "      <td>8 BRENTCLIFF DR|Brampton, Ontario L7A2M7</td>\n",
              "      <td>3 + 1</td>\n",
              "      <td>4</td>\n",
              "      <td>MELAD FAHED</td>\n",
              "      <td>416</td>\n",
              "      <td>205-0355</td>\n",
              "      <td>$1,099,000</td>\n",
              "    </tr>\n",
              "    <tr>\n",
              "      <th>599</th>\n",
              "      <td>5 WESTHAMPTON DR|Toronto, Ontario M9R1X7</td>\n",
              "      <td>3 + 1</td>\n",
              "      <td>2</td>\n",
              "      <td>KOSTA ZIDROS</td>\n",
              "      <td>416</td>\n",
              "      <td>357-2846</td>\n",
              "      <td>$999,000</td>\n",
              "    </tr>\n",
              "  </tbody>\n",
              "</table>\n",
              "<p>600 rows × 7 columns</p>\n",
              "</div>"
            ],
            "text/plain": [
              "                                               Address  ...       Price\n",
              "0    #311 -155 HILLCREST AVE W|Mississauga, Ontario...  ...    $649,900\n",
              "1    #81 -6650 FALCONER DR|Mississauga, Ontario L5N1B5  ...    $739,999\n",
              "2    #806 -90 ABSOLUTE AVE|Mississauga, Ontario L4Z0A1  ...    $619,990\n",
              "3        #202 -300 WEBB DR|Mississauga, Ontario L5B3W3  ...    $569,900\n",
              "4               37 RADLETT AVE|Toronto, Ontario M8W4N1  ...    $999,000\n",
              "..                                                 ...  ...         ...\n",
              "595         514 GALAXY CRT|Mississauga, Ontario L5R2R3  ...    $889,900\n",
              "596    #4204 -8 EGLINTON AVE E|Toronto, Ontario M4P1A6  ...    $549,900\n",
              "597           73 HOLMSTEAD AVE|Toronto, Ontario M4B1T3  ...  $1,699,900\n",
              "598           8 BRENTCLIFF DR|Brampton, Ontario L7A2M7  ...  $1,099,000\n",
              "599           5 WESTHAMPTON DR|Toronto, Ontario M9R1X7  ...    $999,000\n",
              "\n",
              "[600 rows x 7 columns]"
            ]
          },
          "metadata": {},
          "execution_count": 32
        }
      ]
    },
    {
      "cell_type": "code",
      "metadata": {
        "id": "3Q-dG_8c_zYk"
      },
      "source": [
        "df_realtor.to_excel('realtor_multiple_pages.xlsx', index=False)"
      ],
      "execution_count": null,
      "outputs": []
    },
    {
      "cell_type": "code",
      "metadata": {
        "id": "mCnpEvJgAHlj"
      },
      "source": [
        ""
      ],
      "execution_count": null,
      "outputs": []
    }
  ]
}